{
  "cells": [
    {
      "cell_type": "code",
      "execution_count": null,
      "metadata": {
        "id": "VjYy0F2gZIPR"
      },
      "outputs": [],
      "source": [
        "!pip install pygit2==1.15.1\n",
        "%cd /content\n",
        "!git clone https://github.com/lllyasviel/Fooocus.git\n",
        "%cd /content/Fooocus\n",
        "!python entry_with_update.py --share --always-high-vram\n"
      ]
    },
    {
      "cell_type": "code",
      "source": [
        "!ls"
      ],
      "metadata": {
        "id": "M609ahGg7YGU",
        "outputId": "b689ea22-8855-47fb-b6b4-4e477f53a8cf",
        "colab": {
          "base_uri": "https://localhost:8080/"
        }
      },
      "execution_count": 2,
      "outputs": [
        {
          "output_type": "stream",
          "name": "stdout",
          "text": [
            "args_manager.py\t\t\tlanguage\n",
            "auth-example.json\t\tlaunch.py\n",
            "build_launcher.py\t\tldm_patched\n",
            "css\t\t\t\tLICENSE\n",
            "development.md\t\t\tmodels\n",
            "docker-compose.yml\t\tmodules\n",
            "Dockerfile\t\t\tnotification-example.mp3\n",
            "docker.md\t\t\tpresets\n",
            "entrypoint.sh\t\t\t__pycache__\n",
            "entry_with_update.py\t\treadme.md\n",
            "environment.yaml\t\trequirements_docker.txt\n",
            "experiments_expansion.py\trequirements_versions.txt\n",
            "experiments_face.py\t\tsdxl_styles\n",
            "experiments_interrogate.py\tshared.py\n",
            "experiments_mask_generation.py\ttests\n",
            "extras\t\t\t\ttroubleshoot.md\n",
            "fooocus_colab.ipynb\t\tupdate_log.md\n",
            "fooocus_version.py\t\twebui.py\n",
            "javascript\t\t\twildcards\n"
          ]
        }
      ]
    }
  ],
  "metadata": {
    "accelerator": "GPU",
    "colab": {
      "gpuType": "T4",
      "provenance": []
    },
    "kernelspec": {
      "display_name": "Python 3",
      "name": "python3"
    },
    "language_info": {
      "name": "python"
    }
  },
  "nbformat": 4,
  "nbformat_minor": 0
}